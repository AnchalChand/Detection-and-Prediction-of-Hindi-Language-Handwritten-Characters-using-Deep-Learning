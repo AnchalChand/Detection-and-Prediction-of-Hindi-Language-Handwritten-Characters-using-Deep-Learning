{
 "cells": [
  {
   "cell_type": "code",
   "execution_count": 1,
   "id": "b9ac4a94",
   "metadata": {},
   "outputs": [],
   "source": [
    "#LOAD REQUIRED LIBRARIES\n",
    "import os\n",
    "import h5py\n",
    "import numpy as np\n",
    "from keras.preprocessing.image import ImageDataGenerator\n",
    "from keras import optimizers\n",
    "from tensorflow.keras.models import Sequential\n",
    "from tensorflow.keras.layers import Convolution2D,MaxPooling2D,Activation, Dropout, Flatten, Dense, BatchNormalization"
   ]
  },
  {
   "cell_type": "code",
   "execution_count": 2,
   "id": "3bada2e3",
   "metadata": {},
   "outputs": [
    {
     "name": "stdout",
     "output_type": "stream",
     "text": [
      "Found 78200 images belonging to 46 classes.\n",
      "Found 13800 images belonging to 46 classes.\n"
     ]
    }
   ],
   "source": [
    "#DATA AUGMENTATION\n",
    "trainDataGen = ImageDataGenerator(rotation_range = 5,width_shift_range = 0.1,height_shift_range = 0.1,rescale = 1.0/255,shear_range = 0.2,zoom_range = 0.2,horizontal_flip = False,fill_mode = 'nearest')\n",
    "\n",
    "test_datagen = ImageDataGenerator(rescale=1./255) ##normalization\n",
    "trainGenerator = trainDataGen.flow_from_directory(r\"C:\\Users\\ancha\\Desktop\\deep learning 6th sem mini project\\dataset\\DevanagariHandwrittenCharacterDataset\\Train\",target_size = (32,32),batch_size = 32,color_mode = \"grayscale\",class_mode = 'categorical')\n",
    "validation_generator = test_datagen.flow_from_directory(r\"C:\\Users\\ancha\\Desktop\\deep learning 6th sem mini project\\dataset\\DevanagariHandwrittenCharacterDataset\\Test\",target_size=(32,32),batch_size=32,color_mode = \"grayscale\",class_mode= 'categorical')\n"
   ]
  },
  {
   "cell_type": "code",
   "execution_count": 3,
   "id": "1e119279",
   "metadata": {},
   "outputs": [],
   "source": [
    "#CONVOLUTIONAL NEURAL NETWORK\n",
    "\n",
    "model = Sequential()\n",
    "\n",
    "####################################################################################################################\n",
    "#Layer1\n",
    "model.add(Convolution2D(filters = 32,kernel_size = (3,3),strides = 1,activation = \"relu\",input_shape = (32,32,1)))\n",
    "model.add(BatchNormalization())\n",
    "model.add(MaxPooling2D(pool_size=(2, 2),strides=(2, 2),padding=\"same\"))\n",
    "\n",
    "####################################################################################################################\n",
    "#Layer2\n",
    "model.add(Convolution2D(filters = 32,kernel_size = (3,3),strides = 1,activation = \"relu\",input_shape = (32,32,1)))\n",
    "model.add(BatchNormalization())\n",
    "model.add(MaxPooling2D(pool_size=(2, 2),strides=(2, 2),padding=\"same\"))\n",
    "\n",
    "#####################################################################################################################\n",
    "#Layers 3\n",
    "model.add(Convolution2D(filters = 64,kernel_size = (3,3),strides = 1,activation = \"relu\"))\n",
    "model.add(BatchNormalization())\n",
    "model.add(MaxPooling2D(pool_size=(2, 2),strides=(2, 2),padding=\"same\"))\n",
    "\n",
    "#####################################################################################################################\n",
    "#Layer 4\n",
    "model.add(Convolution2D(filters = 64,kernel_size = (3,3),strides= 1,activation = \"relu\"))\n",
    "model.add(BatchNormalization())\n",
    "model.add(MaxPooling2D(pool_size=(2, 2),strides=(2, 2),padding=\"same\"))\n",
    "model.add(Flatten())"
   ]
  },
  {
   "cell_type": "code",
   "execution_count": 4,
   "id": "e6b5022b",
   "metadata": {
    "collapsed": true
   },
   "outputs": [
    {
     "name": "stdout",
     "output_type": "stream",
     "text": [
      "Model: \"sequential\"\n",
      "_________________________________________________________________\n",
      " Layer (type)                Output Shape              Param #   \n",
      "=================================================================\n",
      " conv2d (Conv2D)             (None, 30, 30, 32)        320       \n",
      "                                                                 \n",
      " batch_normalization (BatchN  (None, 30, 30, 32)       128       \n",
      " ormalization)                                                   \n",
      "                                                                 \n",
      " max_pooling2d (MaxPooling2D  (None, 15, 15, 32)       0         \n",
      " )                                                               \n",
      "                                                                 \n",
      " conv2d_1 (Conv2D)           (None, 13, 13, 32)        9248      \n",
      "                                                                 \n",
      " batch_normalization_1 (Batc  (None, 13, 13, 32)       128       \n",
      " hNormalization)                                                 \n",
      "                                                                 \n",
      " max_pooling2d_1 (MaxPooling  (None, 7, 7, 32)         0         \n",
      " 2D)                                                             \n",
      "                                                                 \n",
      " conv2d_2 (Conv2D)           (None, 5, 5, 64)          18496     \n",
      "                                                                 \n",
      " batch_normalization_2 (Batc  (None, 5, 5, 64)         256       \n",
      " hNormalization)                                                 \n",
      "                                                                 \n",
      " max_pooling2d_2 (MaxPooling  (None, 3, 3, 64)         0         \n",
      " 2D)                                                             \n",
      "                                                                 \n",
      " conv2d_3 (Conv2D)           (None, 1, 1, 64)          36928     \n",
      "                                                                 \n",
      " batch_normalization_3 (Batc  (None, 1, 1, 64)         256       \n",
      " hNormalization)                                                 \n",
      "                                                                 \n",
      " max_pooling2d_3 (MaxPooling  (None, 1, 1, 64)         0         \n",
      " 2D)                                                             \n",
      "                                                                 \n",
      " flatten (Flatten)           (None, 64)                0         \n",
      "                                                                 \n",
      " dense (Dense)               (None, 128)               8320      \n",
      "                                                                 \n",
      " batch_normalization_4 (Batc  (None, 128)              512       \n",
      " hNormalization)                                                 \n",
      "                                                                 \n",
      " dense_1 (Dense)             (None, 64)                8256      \n",
      "                                                                 \n",
      " batch_normalization_5 (Batc  (None, 64)               256       \n",
      " hNormalization)                                                 \n",
      "                                                                 \n",
      " dense_2 (Dense)             (None, 46)                2990      \n",
      "                                                                 \n",
      "=================================================================\n",
      "Total params: 86,094\n",
      "Trainable params: 85,326\n",
      "Non-trainable params: 768\n",
      "_________________________________________________________________\n",
      "None\n"
     ]
    }
   ],
   "source": [
    "#FULLY CONNECTED LAYERS                 \n",
    "\n",
    "#####################################################################################\n",
    "#Fully Connected Layer 1\n",
    "model.add(Dense(128,activation = \"relu\",kernel_initializer = \"uniform\"))\n",
    "model.add(BatchNormalization())\n",
    "\n",
    "#####################################################################################\n",
    "#Fully Connected Layer 2\n",
    "model.add(Dense(64,activation = \"relu\",kernel_initializer = \"uniform\"))\n",
    "model.add(BatchNormalization())\n",
    "\n",
    "#####################################################################################\n",
    "#Fully Connected Layer 3\n",
    "model.add(Dense(46,activation = \"softmax\",kernel_initializer = \"uniform\"))\n",
    "\n",
    "#Compile Model\n",
    "model.compile(optimizer = \"adam\",loss = \"categorical_crossentropy\",metrics = [\"accuracy\"])\n",
    "\n",
    "print(model.summary())\n"
   ]
  },
  {
   "cell_type": "code",
   "execution_count": 5,
   "id": "0ab96d98",
   "metadata": {
    "scrolled": true
   },
   "outputs": [
    {
     "name": "stdout",
     "output_type": "stream",
     "text": [
      "Epoch 1/40\n",
      "2444/2444 [==============================] - 320s 130ms/step - loss: 0.8025 - accuracy: 0.7763 - val_loss: 0.1920 - val_accuracy: 0.9417\n",
      "Epoch 2/40\n",
      "2444/2444 [==============================] - 301s 123ms/step - loss: 0.3035 - accuracy: 0.9053 - val_loss: 0.1783 - val_accuracy: 0.9411\n",
      "Epoch 3/40\n",
      "2444/2444 [==============================] - 308s 126ms/step - loss: 0.2387 - accuracy: 0.9265 - val_loss: 0.1484 - val_accuracy: 0.9543\n",
      "Epoch 4/40\n",
      "2444/2444 [==============================] - 331s 136ms/step - loss: 0.1999 - accuracy: 0.9372 - val_loss: 0.0944 - val_accuracy: 0.9701\n",
      "Epoch 5/40\n",
      "2444/2444 [==============================] - 294s 120ms/step - loss: 0.1788 - accuracy: 0.9442 - val_loss: 0.0816 - val_accuracy: 0.9748\n",
      "Epoch 6/40\n",
      "2444/2444 [==============================] - 291s 119ms/step - loss: 0.1628 - accuracy: 0.9499 - val_loss: 0.1528 - val_accuracy: 0.9495\n",
      "Epoch 7/40\n",
      "2444/2444 [==============================] - 327s 134ms/step - loss: 0.1523 - accuracy: 0.9522 - val_loss: 0.1232 - val_accuracy: 0.9601\n",
      "Epoch 8/40\n",
      "2444/2444 [==============================] - 417s 170ms/step - loss: 0.1394 - accuracy: 0.9563 - val_loss: 0.0737 - val_accuracy: 0.9786\n",
      "Epoch 9/40\n",
      "2444/2444 [==============================] - 368s 150ms/step - loss: 0.1312 - accuracy: 0.9596 - val_loss: 0.0715 - val_accuracy: 0.9789\n",
      "Epoch 10/40\n",
      "2444/2444 [==============================] - 345s 141ms/step - loss: 0.1253 - accuracy: 0.9612 - val_loss: 0.0782 - val_accuracy: 0.9759\n",
      "Epoch 11/40\n",
      "2444/2444 [==============================] - 302s 124ms/step - loss: 0.1153 - accuracy: 0.9634 - val_loss: 0.0535 - val_accuracy: 0.9849\n",
      "Epoch 12/40\n",
      "2444/2444 [==============================] - 287s 117ms/step - loss: 0.1127 - accuracy: 0.9648 - val_loss: 0.0670 - val_accuracy: 0.9799\n",
      "Epoch 13/40\n",
      "2444/2444 [==============================] - 258s 106ms/step - loss: 0.1085 - accuracy: 0.9660 - val_loss: 0.0537 - val_accuracy: 0.9837\n",
      "Epoch 14/40\n",
      "2444/2444 [==============================] - 279s 114ms/step - loss: 0.1036 - accuracy: 0.9677 - val_loss: 0.0562 - val_accuracy: 0.9828\n",
      "Epoch 15/40\n",
      "2444/2444 [==============================] - 242s 99ms/step - loss: 0.1003 - accuracy: 0.9690 - val_loss: 0.0663 - val_accuracy: 0.9796\n",
      "Epoch 16/40\n",
      "2444/2444 [==============================] - 252s 103ms/step - loss: 0.0973 - accuracy: 0.9697 - val_loss: 0.0524 - val_accuracy: 0.9839\n",
      "Epoch 17/40\n",
      "2444/2444 [==============================] - 241s 99ms/step - loss: 0.0929 - accuracy: 0.9708 - val_loss: 0.0564 - val_accuracy: 0.9828\n",
      "Epoch 18/40\n",
      "2444/2444 [==============================] - 250s 102ms/step - loss: 0.0905 - accuracy: 0.9719 - val_loss: 0.0577 - val_accuracy: 0.9820\n",
      "Epoch 19/40\n",
      "2444/2444 [==============================] - 292s 119ms/step - loss: 0.0911 - accuracy: 0.9714 - val_loss: 0.0418 - val_accuracy: 0.9886\n",
      "Epoch 20/40\n",
      "2444/2444 [==============================] - 270s 111ms/step - loss: 0.0868 - accuracy: 0.9729 - val_loss: 0.0497 - val_accuracy: 0.9849\n",
      "Epoch 21/40\n",
      "2444/2444 [==============================] - 242s 99ms/step - loss: 0.0859 - accuracy: 0.9729 - val_loss: 0.0454 - val_accuracy: 0.9866\n",
      "Epoch 22/40\n",
      "2444/2444 [==============================] - 251s 103ms/step - loss: 0.0832 - accuracy: 0.9742 - val_loss: 0.0492 - val_accuracy: 0.9861\n",
      "Epoch 23/40\n",
      "2444/2444 [==============================] - 216s 88ms/step - loss: 0.0787 - accuracy: 0.9751 - val_loss: 0.0452 - val_accuracy: 0.9870\n",
      "Epoch 24/40\n",
      "2444/2444 [==============================] - 249s 102ms/step - loss: 0.0802 - accuracy: 0.9745 - val_loss: 0.0388 - val_accuracy: 0.9883\n",
      "Epoch 25/40\n",
      "2444/2444 [==============================] - 288s 118ms/step - loss: 0.0763 - accuracy: 0.9756 - val_loss: 0.0482 - val_accuracy: 0.9864\n",
      "Epoch 26/40\n",
      "2444/2444 [==============================] - 310s 127ms/step - loss: 0.0765 - accuracy: 0.9759 - val_loss: 0.0437 - val_accuracy: 0.9886\n",
      "Epoch 27/40\n",
      "2444/2444 [==============================] - 277s 114ms/step - loss: 0.0760 - accuracy: 0.9764 - val_loss: 0.0416 - val_accuracy: 0.9883\n",
      "Epoch 28/40\n",
      "2444/2444 [==============================] - 283s 116ms/step - loss: 0.0729 - accuracy: 0.9771 - val_loss: 0.0453 - val_accuracy: 0.9864\n",
      "Epoch 29/40\n",
      "2444/2444 [==============================] - 323s 132ms/step - loss: 0.0724 - accuracy: 0.9775 - val_loss: 0.0349 - val_accuracy: 0.9904\n",
      "Epoch 30/40\n",
      "2444/2444 [==============================] - 308s 126ms/step - loss: 0.0700 - accuracy: 0.9779 - val_loss: 0.0371 - val_accuracy: 0.9895\n",
      "Epoch 31/40\n",
      "2444/2444 [==============================] - 274s 112ms/step - loss: 0.0712 - accuracy: 0.9782 - val_loss: 0.0331 - val_accuracy: 0.9909\n",
      "Epoch 32/40\n",
      "2444/2444 [==============================] - 276s 113ms/step - loss: 0.0668 - accuracy: 0.9789 - val_loss: 0.0400 - val_accuracy: 0.9886\n",
      "Epoch 33/40\n",
      "2444/2444 [==============================] - 305s 125ms/step - loss: 0.0647 - accuracy: 0.9797 - val_loss: 0.0372 - val_accuracy: 0.9885\n",
      "Epoch 34/40\n",
      "2444/2444 [==============================] - 285s 117ms/step - loss: 0.0664 - accuracy: 0.9786 - val_loss: 0.0330 - val_accuracy: 0.9907\n",
      "Epoch 35/40\n",
      "2444/2444 [==============================] - 317s 130ms/step - loss: 0.0643 - accuracy: 0.9797 - val_loss: 0.0425 - val_accuracy: 0.9882\n",
      "Epoch 36/40\n",
      "2444/2444 [==============================] - 285s 117ms/step - loss: 0.0639 - accuracy: 0.9800 - val_loss: 0.0329 - val_accuracy: 0.9912\n",
      "Epoch 37/40\n",
      "2444/2444 [==============================] - 275s 112ms/step - loss: 0.0639 - accuracy: 0.9799 - val_loss: 0.0342 - val_accuracy: 0.9903\n",
      "Epoch 38/40\n",
      "2444/2444 [==============================] - 233s 95ms/step - loss: 0.0644 - accuracy: 0.9796 - val_loss: 0.0329 - val_accuracy: 0.9904\n",
      "Epoch 39/40\n",
      "2444/2444 [==============================] - 239s 98ms/step - loss: 0.0637 - accuracy: 0.9794 - val_loss: 0.0381 - val_accuracy: 0.9897\n",
      "Epoch 40/40\n",
      "2444/2444 [==============================] - 230s 94ms/step - loss: 0.0620 - accuracy: 0.9801 - val_loss: 0.0360 - val_accuracy: 0.9901\n"
     ]
    }
   ],
   "source": [
    "#Fit model on the loaded dataset\n",
    "res=model.fit(trainGenerator,epochs = 40,steps_per_epoch = 2444,validation_data = validation_generator,validation_steps = 432)\n"
   ]
  },
  {
   "cell_type": "code",
   "execution_count": 7,
   "id": "e3e98a72",
   "metadata": {},
   "outputs": [
    {
     "name": "stdout",
     "output_type": "stream",
     "text": [
      "LOSS:  0.036006104201078415\n",
      "ACCURACY:  0.9901449084281921\n"
     ]
    }
   ],
   "source": [
    "print(\"LOSS: \",loss)\n",
    "print(\"ACCURACY: \",accuracy)"
   ]
  },
  {
   "cell_type": "code",
   "execution_count": 32,
   "id": "ffa7b474",
   "metadata": {},
   "outputs": [
    {
     "name": "stdout",
     "output_type": "stream",
     "text": [
      "2444/2444 [==============================] - 454s 186ms/step - loss: 0.0454 - accuracy: 0.9859\n",
      "432/432 [==============================] - 59s 136ms/step - loss: 0.0360 - accuracy: 0.9901\n",
      "Validation: accuracy = 0.990145  ;  loss_v = 0.036006\n",
      "Test: accuracy = 0.985895  ;  loss = 0.045371\n",
      "Model: \"sequential\"\n",
      "_________________________________________________________________\n",
      " Layer (type)                Output Shape              Param #   \n",
      "=================================================================\n",
      " conv2d (Conv2D)             (None, 30, 30, 32)        320       \n",
      "                                                                 \n",
      " batch_normalization (BatchN  (None, 30, 30, 32)       128       \n",
      " ormalization)                                                   \n",
      "                                                                 \n",
      " max_pooling2d (MaxPooling2D  (None, 15, 15, 32)       0         \n",
      " )                                                               \n",
      "                                                                 \n",
      " conv2d_1 (Conv2D)           (None, 13, 13, 32)        9248      \n",
      "                                                                 \n",
      " batch_normalization_1 (Batc  (None, 13, 13, 32)       128       \n",
      " hNormalization)                                                 \n",
      "                                                                 \n",
      " max_pooling2d_1 (MaxPooling  (None, 7, 7, 32)         0         \n",
      " 2D)                                                             \n",
      "                                                                 \n",
      " conv2d_2 (Conv2D)           (None, 5, 5, 64)          18496     \n",
      "                                                                 \n",
      " batch_normalization_2 (Batc  (None, 5, 5, 64)         256       \n",
      " hNormalization)                                                 \n",
      "                                                                 \n",
      " max_pooling2d_2 (MaxPooling  (None, 3, 3, 64)         0         \n",
      " 2D)                                                             \n",
      "                                                                 \n",
      " conv2d_3 (Conv2D)           (None, 1, 1, 64)          36928     \n",
      "                                                                 \n",
      " batch_normalization_3 (Batc  (None, 1, 1, 64)         256       \n",
      " hNormalization)                                                 \n",
      "                                                                 \n",
      " max_pooling2d_3 (MaxPooling  (None, 1, 1, 64)         0         \n",
      " 2D)                                                             \n",
      "                                                                 \n",
      " flatten (Flatten)           (None, 64)                0         \n",
      "                                                                 \n",
      " dense (Dense)               (None, 128)               8320      \n",
      "                                                                 \n",
      " batch_normalization_4 (Batc  (None, 128)              512       \n",
      " hNormalization)                                                 \n",
      "                                                                 \n",
      " dense_1 (Dense)             (None, 64)                8256      \n",
      "                                                                 \n",
      " batch_normalization_5 (Batc  (None, 64)               256       \n",
      " hNormalization)                                                 \n",
      "                                                                 \n",
      " dense_2 (Dense)             (None, 46)                2990      \n",
      "                                                                 \n",
      "=================================================================\n",
      "Total params: 86,094\n",
      "Trainable params: 85,326\n",
      "Non-trainable params: 768\n",
      "_________________________________________________________________\n",
      "None\n"
     ]
    }
   ],
   "source": [
    "#MODEL EVALUATION\n",
    "loss, accuracy = model.evaluate(trainGenerator, verbose=1)\n",
    "loss_v, accuracy_v = model.evaluate(validation_generator, verbose=1)\n",
    "print(\"Validation: accuracy = %f  ;  loss_v = %f\" % (accuracy_v, loss_v))\n",
    "print(\"Test: accuracy = %f  ;  loss = %f\" % (accuracy, loss))\n",
    "model.save(\"model.h5\")\n",
    "\n",
    "print(model.summary())\n"
   ]
  },
  {
   "cell_type": "code",
   "execution_count": 8,
   "id": "dca0b8d8",
   "metadata": {
    "collapsed": true
   },
   "outputs": [
    {
     "name": "stdout",
     "output_type": "stream",
     "text": [
      "Model: \"sequential\"\n",
      "_________________________________________________________________\n",
      " Layer (type)                Output Shape              Param #   \n",
      "=================================================================\n",
      " conv2d (Conv2D)             (None, 30, 30, 32)        320       \n",
      "                                                                 \n",
      " batch_normalization (BatchN  (None, 30, 30, 32)       128       \n",
      " ormalization)                                                   \n",
      "                                                                 \n",
      " max_pooling2d (MaxPooling2D  (None, 15, 15, 32)       0         \n",
      " )                                                               \n",
      "                                                                 \n",
      " conv2d_1 (Conv2D)           (None, 13, 13, 32)        9248      \n",
      "                                                                 \n",
      " batch_normalization_1 (Batc  (None, 13, 13, 32)       128       \n",
      " hNormalization)                                                 \n",
      "                                                                 \n",
      " max_pooling2d_1 (MaxPooling  (None, 7, 7, 32)         0         \n",
      " 2D)                                                             \n",
      "                                                                 \n",
      " conv2d_2 (Conv2D)           (None, 5, 5, 64)          18496     \n",
      "                                                                 \n",
      " batch_normalization_2 (Batc  (None, 5, 5, 64)         256       \n",
      " hNormalization)                                                 \n",
      "                                                                 \n",
      " max_pooling2d_2 (MaxPooling  (None, 3, 3, 64)         0         \n",
      " 2D)                                                             \n",
      "                                                                 \n",
      " conv2d_3 (Conv2D)           (None, 1, 1, 64)          36928     \n",
      "                                                                 \n",
      " batch_normalization_3 (Batc  (None, 1, 1, 64)         256       \n",
      " hNormalization)                                                 \n",
      "                                                                 \n",
      " max_pooling2d_3 (MaxPooling  (None, 1, 1, 64)         0         \n",
      " 2D)                                                             \n",
      "                                                                 \n",
      " flatten (Flatten)           (None, 64)                0         \n",
      "                                                                 \n",
      " dense (Dense)               (None, 128)               8320      \n",
      "                                                                 \n",
      " batch_normalization_4 (Batc  (None, 128)              512       \n",
      " hNormalization)                                                 \n",
      "                                                                 \n",
      " dense_1 (Dense)             (None, 64)                8256      \n",
      "                                                                 \n",
      " batch_normalization_5 (Batc  (None, 64)               256       \n",
      " hNormalization)                                                 \n",
      "                                                                 \n",
      " dense_2 (Dense)             (None, 46)                2990      \n",
      "                                                                 \n",
      "=================================================================\n",
      "Total params: 86,094\n",
      "Trainable params: 85,326\n",
      "Non-trainable params: 768\n",
      "_________________________________________________________________\n",
      "None\n"
     ]
    }
   ],
   "source": [
    "print(model.summary())"
   ]
  },
  {
   "cell_type": "code",
   "execution_count": 9,
   "id": "571cf6c7",
   "metadata": {},
   "outputs": [],
   "source": [
    "model.save(\"HindiModel2.h5\")"
   ]
  },
  {
   "cell_type": "code",
   "execution_count": 10,
   "id": "4c9d76f9",
   "metadata": {},
   "outputs": [],
   "source": [
    "########################################################\n",
    "# TESTING #\n",
    "########################################################\n",
    "import matplotlib.pyplot as plt\n",
    "from keras.preprocessing.image import img_to_array\n",
    "from keras.models import load_model\n",
    "import numpy as np\n",
    "import argparse\n",
    "import imutils\n",
    "import cv2"
   ]
  },
  {
   "cell_type": "code",
   "execution_count": 11,
   "id": "cd14a21b",
   "metadata": {},
   "outputs": [],
   "source": [
    "''' [\"ka\",\"kha\",\"ga\",\"gha\",\"kna\",\"cha\",\"chha\",\"ja\",\"jha\",\"yna\",\"t`a\",\"t`ha\",\"d`a\",\"d`ha\",\"adna\",\"ta\",\"tha\",\"da\",\"dha\",\"na\",\"pa\",\"pha\",\"ba\",\"bha\",\"ma\",\"yaw\",\"ra\",\"la\",\"waw\",\"sha\",\"shat\",\"sa\",\"ha\",\"aksha\",\"tra\",\"gya\",\"0\",\"1\",\"2\",\"3\",\"4\",\"5\",\"6\",\"7\",\"8\",\"9\"]\n",
    "labels =['yna', 't`aa', 't`haa', 'd`aa', 'd`haa', 'a`dna', 'ta', 'tha', 'da', 'dha', 'ka', 'na', 'pa', 'pha', 'ba', 'bha', 'ma', 'yaw', 'ra', 'la', 'waw', 'kha', 'sha', 'shat', 'sa', 'ha', 'aksha', 'tra', 'gya', 'ga', 'gha', 'kna', 'cha', 'chha', 'ja', 'jha', '0', '1', '2', '3', '4', '5', '6', '7', '8', '9']\n",
    "'''\n",
    "labels = [u'\\u091E',u'\\u091F',u'\\u0920',u'\\u0921',u'\\u0922',u'\\u0923',u'\\u0924',u'\\u0925',u'\\u0926',u'\\u0927',u'\\u0915',u'\\u0928',u'\\u092A',u'\\u092B',u'\\u092c',u'\\u092d',u'\\u092e',u'\\u092f',u'\\u0930',u'\\u0932',u'\\u0935',u'\\u0916',u'\\u0936',u'\\u0937',u'\\u0938',u'\\u0939','ksha','tra','gya',u'\\u0917',u'\\u0918',u'\\u0919',u'\\u091a',u'\\u091b',u'\\u091c',u'\\u091d',u'\\u0966',u'\\u0967',u'\\u0968',u'\\u0969',u'\\u096a',u'\\u096b',u'\\u096c',u'\\u096d',u'\\u096e',u'\\u096f']\n"
   ]
  },
  {
   "cell_type": "code",
   "execution_count": 27,
   "id": "00e7b675",
   "metadata": {},
   "outputs": [
    {
     "data": {
      "text/plain": [
       "<matplotlib.image.AxesImage at 0x135b11b7340>"
      ]
     },
     "execution_count": 27,
     "metadata": {},
     "output_type": "execute_result"
    },
    {
     "data": {
      "image/png": "[encoded data removed]",
      "text/plain": [
       "<Figure size 432x288 with 1 Axes>"
      ]
     },
     "metadata": {
      "needs_background": "light"
     },
     "output_type": "display_data"
    }
   ],
   "source": [
    "#INPUT IMAGE\n",
    "import numpy as np\n",
    "from keras.preprocessing import image\n",
    "test_image = cv2.imread(r\"C:\\Users\\ancha\\Desktop\\deep learning 6th sem mini project\\dataset\\DevanagariHandwrittenCharacterDataset\\Test\\character_13_daa\\493.png\")\n",
    "x = np.array([80, 85, 90, 95, 100, 105, 110, 115, 120, 125])\n",
    "plt.plot(x)\n",
    "plt.xlabel(\"INPUT IMAGE\")\n",
    "plt.imshow(test_image)\n"
   ]
  },
  {
   "cell_type": "code",
   "execution_count": 28,
   "id": "cb924074",
   "metadata": {},
   "outputs": [
    {
     "data": {
      "text/plain": [
       "<matplotlib.image.AxesImage at 0x135b121c7f0>"
      ]
     },
     "execution_count": 28,
     "metadata": {},
     "output_type": "execute_result"
    },
    {
     "data": {
      "image/png": "[encoded data removed]",
      "text/plain": [
       "<Figure size 432x288 with 1 Axes>"
      ]
     },
     "metadata": {
      "needs_background": "light"
     },
     "output_type": "display_data"
    }
   ],
   "source": [
    "gray=cv2.cvtColor(test_image,cv2.COLOR_BGR2GRAY)\n",
    "\n",
    "x = np.array([80, 85, 90, 95, 100, 105, 110, 115, 120, 125])\n",
    "\n",
    "plt.plot(x)\n",
    "\n",
    "plt.xlabel(\"GRAY IMAGE\")\n",
    "\n",
    "plt.imshow(gray)"
   ]
  },
  {
   "cell_type": "code",
   "execution_count": 29,
   "id": "df989857",
   "metadata": {},
   "outputs": [
    {
     "name": "stdout",
     "output_type": "stream",
     "text": [
      "[INFO] loading network...\n",
      "The letter is  ड\n"
     ]
    },
    {
     "data": {
      "text/plain": [
       "<matplotlib.image.AxesImage at 0x135b2314700>"
      ]
     },
     "execution_count": 29,
     "metadata": {},
     "output_type": "execute_result"
    },
    {
     "data": {
      "image/png": "[encoded data removed]",
      "text/plain": [
       "<Figure size 432x288 with 1 Axes>"
      ]
     },
     "metadata": {
      "needs_background": "light"
     },
     "output_type": "display_data"
    }
   ],
   "source": [
    "import numpy as np\n",
    "from keras.preprocessing import image\n",
    "test_image = cv2.imread(r\"C:\\Users\\ancha\\Desktop\\deep learning 6th sem mini project\\dataset\\DevanagariHandwrittenCharacterDataset\\Test\\character_13_daa\\493.png\")\n",
    "\n",
    "image = cv2.resize(test_image,(32,32))\n",
    "\n",
    "image = image.astype(\"float\") / 255.0\n",
    "image = img_to_array(image)\n",
    "image = cv2.cvtColor(image, cv2.COLOR_BGR2GRAY)\n",
    "# show the output image\n",
    "image = np.expand_dims(image, axis=0)\n",
    "image = np.expand_dims(image, axis=3)\n",
    "print(\"[INFO] loading network...\")\n",
    "import tensorflow as tf\n",
    "model = tf.keras.models.load_model(r\"C:\\Users\\ancha\\Desktop\\deep learning 6th sem mini project\\HindiModel2.h5\")\n",
    "lists = model.predict(image)[0]\n",
    "print(\"The letter is \",labels[np.argmax(lists)])\n",
    "res=labels[np.argmax(lists)]\n",
    "\n",
    "plt.imshow(cv2.cvtColor(test_image, cv2.COLOR_BGR2GRAY))##optional\n"
   ]
  },
  {
   "cell_type": "code",
   "execution_count": 16,
   "id": "61f9d0db",
   "metadata": {},
   "outputs": [
    {
     "data": {
      "text/plain": [
       "0"
      ]
     },
     "execution_count": 16,
     "metadata": {},
     "output_type": "execute_result"
    }
   ],
   "source": [
    "# This module is imported to play an audio message\n",
    "import os\n",
    "from gtts import gTTS\n",
    "\n",
    "myobj = gTTS(text=\"इनपुट छवि से पता चला डेटा स्क्रीन में दिखाया गया है\", lang='hi', slow=False)\n",
    "#myobj = gTTS(res, lang='hi', slow=False)\n",
    "\n",
    "# Playing the converted file\n",
    "os.system(\"start welcome.mp3\")\n",
    "\n",
    "#################################################################################################\n",
    "#################################################################################################\n",
    "#################################################################################################\n"
   ]
  }
 ],
 "metadata": {
  "kernelspec": {
   "display_name": "Python 3 (ipykernel)",
   "language": "python",
   "name": "python3"
  },
  "language_info": {
   "codemirror_mode": {
    "name": "ipython",
    "version": 3
   },
   "file_extension": ".py",
   "mimetype": "text/x-python",
   "name": "python",
   "nbconvert_exporter": "python",
   "pygments_lexer": "ipython3",
   "version": "3.9.7"
  }
 },
 "nbformat": 4,
 "nbformat_minor": 5
}
